{
 "cells": [
  {
   "cell_type": "code",
   "execution_count": 4,
   "metadata": {},
   "outputs": [],
   "source": [
    "import scrapy"
   ]
  },
  {
   "cell_type": "code",
   "execution_count": 5,
   "metadata": {},
   "outputs": [],
   "source": [
    "import scrapy\n",
    "\n",
    "\n",
    "class PostsSpider(scrapy.Spider):\n",
    "    name = \"posts\"\n",
    "\n",
    "    start_urls = [\n",
    "        'https://blog.scrapinghub.com/'\n",
    "    ]\n",
    "\n",
    "    def parse(self, response):\n",
    "        for post in response.css('div.post-item'):\n",
    "            yield {\n",
    "                'title': post.css('.post-header h2 a::text')[0].get(),\n",
    "                'date': post.css('.post-header a::text')[1].get(),\n",
    "                'author': post.css('.post-header a::text')[2].get()\n",
    "            }\n",
    "        next_page = response.css('a.next-posts-link::attr(href)').get()\n",
    "        if next_page is not None:\n",
    "            next_page = response.urljoin(next_page)\n",
    "            yield scrapy.Request(next_page, callback=self.parse)"
   ]
  },
  {
   "cell_type": "code",
   "execution_count": null,
   "metadata": {},
   "outputs": [],
   "source": [
    "\n",
    "\n",
    "\n",
    "\n"
   ]
  },
  {
   "cell_type": "code",
   "execution_count": null,
   "metadata": {},
   "outputs": [],
   "source": []
  }
 ],
 "metadata": {
  "kernelspec": {
   "display_name": "Python 3",
   "language": "python",
   "name": "python3"
  },
  "language_info": {
   "codemirror_mode": {
    "name": "ipython",
    "version": 3
   },
   "file_extension": ".py",
   "mimetype": "text/x-python",
   "name": "python",
   "nbconvert_exporter": "python",
   "pygments_lexer": "ipython3",
   "version": "3.8.3"
  }
 },
 "nbformat": 4,
 "nbformat_minor": 4
}
